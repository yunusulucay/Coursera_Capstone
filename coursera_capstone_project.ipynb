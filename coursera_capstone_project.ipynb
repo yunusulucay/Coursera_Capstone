{
 "cells": [
  {
   "cell_type": "markdown",
   "metadata": {},
   "source": [
    "## Introduction: Business Problem <a name=\"introduction\"></a>"
   ]
  },
  {
   "cell_type": "markdown",
   "metadata": {},
   "source": [
    "These days we deal with coronavirus and fast intervention is quite important. We want to show the nearest hospital to a coronavirus patient so in this way they can intervene faster to the patient. And prevent to spread it much more because of that patient."
   ]
  },
  {
   "cell_type": "markdown",
   "metadata": {},
   "source": [
    "## Data <a name=\"data\"></a>"
   ]
  },
  {
   "cell_type": "markdown",
   "metadata": {},
   "source": [
    "In introduction section we specified the problem that we will solve. The problem was to find the coronavirus patients' location first. After finding the patients, showing them the nearest hospital to go. So for this we need patients' locations and hospitals' locations. We can get hospitals' locations from Foursquare location data but there is no data to find where the coronavirus patents are. And this is not too important because I will specify some locations for the patients in different places. In this way, we can find the hospitals near to the patient and show the nearest one."
   ]
  },
  {
   "cell_type": "markdown",
   "metadata": {},
   "source": [
    "### Near Hospitals"
   ]
  },
  {
   "cell_type": "markdown",
   "metadata": {},
   "source": [
    "Firstly there are some libraries we need to import, we import them. After this we need a Client Id and Client Secret to connect and to use the Foursquare location system. We use geolocator to find a city or country's location by it's name."
   ]
  },
  {
   "cell_type": "code",
   "execution_count": 1,
   "metadata": {},
   "outputs": [
    {
     "name": "stderr",
     "output_type": "stream",
     "text": [
      "'conda' is not recognized as an internal or external command,\n",
      "operable program or batch file.\n",
      "'conda' is not recognized as an internal or external command,\n",
      "operable program or batch file.\n"
     ]
    }
   ],
   "source": [
    "import requests # library to handle requests\n",
    "import pandas as pd # library for data analsysis\n",
    "import numpy as np # library to handle data in a vectorized manner\n",
    "import random # library for random number generation\n",
    "\n",
    "!conda install -c conda-forge geopy --yes \n",
    "from geopy.geocoders import Nominatim # module to convert an address into latitude and longitude values\n",
    "\n",
    "# libraries for displaying images\n",
    "from IPython.display import Image \n",
    "from IPython.core.display import HTML \n",
    "    \n",
    "# tranforming json file into a pandas dataframe library\n",
    "from pandas.io.json import json_normalize\n",
    "\n",
    "!conda install -c conda-forge folium=0.5.0 --yes\n",
    "import folium # plotting library"
   ]
  },
  {
   "cell_type": "code",
   "execution_count": 2,
   "metadata": {},
   "outputs": [],
   "source": [
    "CLIENT_ID = 'ABM5N3GPUYTNFBPUHTD1OLKSIRVCR5G3RMX1AG3YC5WYMJ43' # your Foursquare ID\n",
    "CLIENT_SECRET = 'HSOVATVLZNX5OEW04EO1TACWEGOQ3BFOKUHSG4VI0FEITNOA' # your Foursquare Secret"
   ]
  },
  {
   "cell_type": "code",
   "execution_count": 3,
   "metadata": {},
   "outputs": [
    {
     "name": "stdout",
     "output_type": "stream",
     "text": [
      "41.0096334 28.9651646\n"
     ]
    },
    {
     "data": {
      "text/html": [
       "<div style=\"width:100%;\"><div style=\"position:relative;width:100%;height:0;padding-bottom:60%;\"><iframe src=\"about:blank\" style=\"position:absolute;width:100%;height:100%;left:0;top:0;border:none !important;\" data-html=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 onload=\"this.contentDocument.open();this.contentDocument.write(atob(this.getAttribute('data-html')));this.contentDocument.close();\" allowfullscreen webkitallowfullscreen mozallowfullscreen></iframe></div></div>"
      ],
      "text/plain": [
       "<folium.folium.Map at 0x2a8ee792c88>"
      ]
     },
     "execution_count": 3,
     "metadata": {},
     "output_type": "execute_result"
    }
   ],
   "source": [
    "address = 'Istanbul'\n",
    "\n",
    "geolocator = Nominatim(user_agent=\"foursquare_agent\")\n",
    "location = geolocator.geocode(address)\n",
    "latitude = location.latitude\n",
    "longitude = location.longitude\n",
    "print(latitude, longitude)\n",
    "\n",
    "folium.Map(location=[41.0096334, 28.9651646],zoom_start=10)"
   ]
  },
  {
   "cell_type": "markdown",
   "metadata": {},
   "source": [
    "## Methodology <a name=\"methodology\"></a>"
   ]
  },
  {
   "cell_type": "markdown",
   "metadata": {},
   "source": [
    "We need patient's location. After that we find the hospitals that near to the patient. Foursquare gives us the distance too. So this makes us faster. We sort distance and we show the nearest hospital to patient as a black icon while the others' colors were blue. And we print the nearest hospital's name."
   ]
  },
  {
   "cell_type": "markdown",
   "metadata": {},
   "source": [
    "### Analysis"
   ]
  },
  {
   "cell_type": "markdown",
   "metadata": {},
   "source": [
    "The location of coronavirus patient will be unique, this will be our location, because of that I created a new dataframe named df as patients's locations."
   ]
  },
  {
   "cell_type": "code",
   "execution_count": 4,
   "metadata": {},
   "outputs": [],
   "source": [
    "# Creating the dataframe that contains coronavirus patients' location.\n",
    "df = pd.DataFrame({\"Latitude\":[40.955187,40.9670336,41.0138276,41.0450986,41.0071775],\n",
    "     \"Longitude\":[29.300388,29.054685,29.045683,28.9712634,28.9735483]})"
   ]
  },
  {
   "cell_type": "markdown",
   "metadata": {},
   "source": [
    "There is a point we need to notice, we create a URL to get the data from Foursquare. There is categoryId in the URL, this specifies the category that hospital, or cafe or restaurant etc. And you can reach them from here : https://developer.foursquare.com/docs/build-with-foursquare/categories"
   ]
  },
  {
   "cell_type": "code",
   "execution_count": 5,
   "metadata": {},
   "outputs": [
    {
     "data": {
      "text/plain": [
       "'https://api.foursquare.com/v2/venues/search?ll=40.955187,29.300388&categoryId=4bf58dd8d48988d196941735&client_id=ABM5N3GPUYTNFBPUHTD1OLKSIRVCR5G3RMX1AG3YC5WYMJ43&client_secret=HSOVATVLZNX5OEW04EO1TACWEGOQ3BFOKUHSG4VI0FEITNOA&radius=10000&limit=20&v=20180628'"
      ]
     },
     "execution_count": 5,
     "metadata": {},
     "output_type": "execute_result"
    }
   ],
   "source": [
    "LATITUDE = df[\"Latitude\"][0]\n",
    "LONGITUDE = df[\"Longitude\"][0]\n",
    "RADIUS = 10000\n",
    "LIMIT = 20\n",
    "URL = \"https://api.foursquare.com/v2/venues/search?ll={},{}&categoryId=4bf58dd8d48988d196941735&client_id={}&client_secret={}&radius={}&limit={}&v=20180628\".format(LATITUDE,LONGITUDE,CLIENT_ID,CLIENT_SECRET,RADIUS,LIMIT)\n",
    "URL"
   ]
  },
  {
   "cell_type": "markdown",
   "metadata": {},
   "source": [
    "Assign the data that URL contains."
   ]
  },
  {
   "cell_type": "code",
   "execution_count": 6,
   "metadata": {},
   "outputs": [],
   "source": [
    "results = requests.get(URL).json()"
   ]
  },
  {
   "cell_type": "markdown",
   "metadata": {},
   "source": [
    "We create a dataframe that contains hospital name, latitude, longitude and the distance to the patient of the hospital."
   ]
  },
  {
   "cell_type": "code",
   "execution_count": 7,
   "metadata": {},
   "outputs": [],
   "source": [
    "samples = {}\n",
    "for index,venue in enumerate(results[\"response\"][\"venues\"]):\n",
    "    samples.update({index:{\"Hospital Name\":venue[\"name\"],\n",
    "        \"Latitude\":venue[\"location\"][\"lat\"],\n",
    "        \"Longitude\":venue[\"location\"][\"lng\"],\n",
    "        \"Distance\":venue[\"location\"][\"distance\"]}})\n",
    "df_near_hospitals = pd.DataFrame(samples).T.sort_values(by=\"Distance\")[:20]\n",
    "df_near_hospitals.index = range(len(df_near_hospitals))"
   ]
  },
  {
   "cell_type": "code",
   "execution_count": 8,
   "metadata": {},
   "outputs": [
    {
     "data": {
      "text/html": [
       "<div>\n",
       "<style scoped>\n",
       "    .dataframe tbody tr th:only-of-type {\n",
       "        vertical-align: middle;\n",
       "    }\n",
       "\n",
       "    .dataframe tbody tr th {\n",
       "        vertical-align: top;\n",
       "    }\n",
       "\n",
       "    .dataframe thead th {\n",
       "        text-align: right;\n",
       "    }\n",
       "</style>\n",
       "<table border=\"1\" class=\"dataframe\">\n",
       "  <thead>\n",
       "    <tr style=\"text-align: right;\">\n",
       "      <th></th>\n",
       "      <th>Hospital Name</th>\n",
       "      <th>Latitude</th>\n",
       "      <th>Longitude</th>\n",
       "      <th>Distance</th>\n",
       "    </tr>\n",
       "  </thead>\n",
       "  <tbody>\n",
       "    <tr>\n",
       "      <th>0</th>\n",
       "      <td>Ersoy Hastanesi</td>\n",
       "      <td>40.9665</td>\n",
       "      <td>29.2694</td>\n",
       "      <td>2892</td>\n",
       "    </tr>\n",
       "    <tr>\n",
       "      <th>1</th>\n",
       "      <td>Özel Adatıp Hospital</td>\n",
       "      <td>40.9258</td>\n",
       "      <td>29.2912</td>\n",
       "      <td>3367</td>\n",
       "    </tr>\n",
       "    <tr>\n",
       "      <th>2</th>\n",
       "      <td>Emsey Hospital</td>\n",
       "      <td>40.924</td>\n",
       "      <td>29.2893</td>\n",
       "      <td>3599</td>\n",
       "    </tr>\n",
       "    <tr>\n",
       "      <th>3</th>\n",
       "      <td>Sultanbeyli Yeni Devlet Hastanesi</td>\n",
       "      <td>40.9862</td>\n",
       "      <td>29.2826</td>\n",
       "      <td>3764</td>\n",
       "    </tr>\n",
       "    <tr>\n",
       "      <th>4</th>\n",
       "      <td>Özel Saygı Hastanesi</td>\n",
       "      <td>40.9697</td>\n",
       "      <td>29.2578</td>\n",
       "      <td>3930</td>\n",
       "    </tr>\n",
       "    <tr>\n",
       "      <th>5</th>\n",
       "      <td>Ersoy Hastanesi</td>\n",
       "      <td>40.9109</td>\n",
       "      <td>29.2982</td>\n",
       "      <td>4938</td>\n",
       "    </tr>\n",
       "    <tr>\n",
       "      <th>6</th>\n",
       "      <td>Marmara Üniversitesi Pendik Eğitim Ve Araştırm...</td>\n",
       "      <td>40.8896</td>\n",
       "      <td>29.2651</td>\n",
       "      <td>7878</td>\n",
       "    </tr>\n",
       "    <tr>\n",
       "      <th>7</th>\n",
       "      <td>Marmara Üniversitesi Pendik Eğitim ve Araştırm...</td>\n",
       "      <td>40.8865</td>\n",
       "      <td>29.263</td>\n",
       "      <td>8268</td>\n",
       "    </tr>\n",
       "    <tr>\n",
       "      <th>8</th>\n",
       "      <td>Cihan Tıp Merkezi</td>\n",
       "      <td>40.8788</td>\n",
       "      <td>29.2716</td>\n",
       "      <td>8839</td>\n",
       "    </tr>\n",
       "    <tr>\n",
       "      <th>9</th>\n",
       "      <td>Sancaktepe Sahra Hastanesi</td>\n",
       "      <td>40.998</td>\n",
       "      <td>29.2115</td>\n",
       "      <td>8860</td>\n",
       "    </tr>\n",
       "    <tr>\n",
       "      <th>10</th>\n",
       "      <td>Pendik Özel Yüzyıl Hastanesi</td>\n",
       "      <td>40.8795</td>\n",
       "      <td>29.261</td>\n",
       "      <td>9049</td>\n",
       "    </tr>\n",
       "    <tr>\n",
       "      <th>11</th>\n",
       "      <td>Vm Medical Park Pendik</td>\n",
       "      <td>40.8805</td>\n",
       "      <td>29.2562</td>\n",
       "      <td>9108</td>\n",
       "    </tr>\n",
       "    <tr>\n",
       "      <th>12</th>\n",
       "      <td>Özel Pendik Bölge Hastanesi</td>\n",
       "      <td>40.8826</td>\n",
       "      <td>29.2457</td>\n",
       "      <td>9296</td>\n",
       "    </tr>\n",
       "    <tr>\n",
       "      <th>13</th>\n",
       "      <td>Medipol Üniversitesi Pendik Hastanesi</td>\n",
       "      <td>40.8842</td>\n",
       "      <td>29.2356</td>\n",
       "      <td>9595</td>\n",
       "    </tr>\n",
       "    <tr>\n",
       "      <th>14</th>\n",
       "      <td>Sancaktepe Eğitim Ve Araştırma Hastahanesi</td>\n",
       "      <td>41.0055</td>\n",
       "      <td>29.1966</td>\n",
       "      <td>10364</td>\n",
       "    </tr>\n",
       "    <tr>\n",
       "      <th>15</th>\n",
       "      <td>Çekmeköy Devlet Hastanesi</td>\n",
       "      <td>41.0373</td>\n",
       "      <td>29.2353</td>\n",
       "      <td>10647</td>\n",
       "    </tr>\n",
       "    <tr>\n",
       "      <th>16</th>\n",
       "      <td>Okan Üniversitesi Hastanesi</td>\n",
       "      <td>40.8494</td>\n",
       "      <td>29.3021</td>\n",
       "      <td>11779</td>\n",
       "    </tr>\n",
       "    <tr>\n",
       "      <th>17</th>\n",
       "      <td>Özel Gisbir Sağlık Merkezi Hastanesi</td>\n",
       "      <td>40.8478</td>\n",
       "      <td>29.2944</td>\n",
       "      <td>11968</td>\n",
       "    </tr>\n",
       "    <tr>\n",
       "      <th>18</th>\n",
       "      <td>Tuzla Devlet Hastanesi Fizik Tedavi Ünitesi</td>\n",
       "      <td>40.8446</td>\n",
       "      <td>29.3031</td>\n",
       "      <td>12310</td>\n",
       "    </tr>\n",
       "    <tr>\n",
       "      <th>19</th>\n",
       "      <td>Tuzla Devlet Hastanesi</td>\n",
       "      <td>40.8446</td>\n",
       "      <td>29.3032</td>\n",
       "      <td>12317</td>\n",
       "    </tr>\n",
       "  </tbody>\n",
       "</table>\n",
       "</div>"
      ],
      "text/plain": [
       "                                        Hospital Name Latitude Longitude  \\\n",
       "0                                     Ersoy Hastanesi  40.9665   29.2694   \n",
       "1                                Özel Adatıp Hospital  40.9258   29.2912   \n",
       "2                                      Emsey Hospital   40.924   29.2893   \n",
       "3                   Sultanbeyli Yeni Devlet Hastanesi  40.9862   29.2826   \n",
       "4                                Özel Saygı Hastanesi  40.9697   29.2578   \n",
       "5                                     Ersoy Hastanesi  40.9109   29.2982   \n",
       "6   Marmara Üniversitesi Pendik Eğitim Ve Araştırm...  40.8896   29.2651   \n",
       "7   Marmara Üniversitesi Pendik Eğitim ve Araştırm...  40.8865    29.263   \n",
       "8                                   Cihan Tıp Merkezi  40.8788   29.2716   \n",
       "9                          Sancaktepe Sahra Hastanesi   40.998   29.2115   \n",
       "10                       Pendik Özel Yüzyıl Hastanesi  40.8795    29.261   \n",
       "11                             Vm Medical Park Pendik  40.8805   29.2562   \n",
       "12                        Özel Pendik Bölge Hastanesi  40.8826   29.2457   \n",
       "13              Medipol Üniversitesi Pendik Hastanesi  40.8842   29.2356   \n",
       "14         Sancaktepe Eğitim Ve Araştırma Hastahanesi  41.0055   29.1966   \n",
       "15                          Çekmeköy Devlet Hastanesi  41.0373   29.2353   \n",
       "16                        Okan Üniversitesi Hastanesi  40.8494   29.3021   \n",
       "17               Özel Gisbir Sağlık Merkezi Hastanesi  40.8478   29.2944   \n",
       "18        Tuzla Devlet Hastanesi Fizik Tedavi Ünitesi  40.8446   29.3031   \n",
       "19                             Tuzla Devlet Hastanesi  40.8446   29.3032   \n",
       "\n",
       "   Distance  \n",
       "0      2892  \n",
       "1      3367  \n",
       "2      3599  \n",
       "3      3764  \n",
       "4      3930  \n",
       "5      4938  \n",
       "6      7878  \n",
       "7      8268  \n",
       "8      8839  \n",
       "9      8860  \n",
       "10     9049  \n",
       "11     9108  \n",
       "12     9296  \n",
       "13     9595  \n",
       "14    10364  \n",
       "15    10647  \n",
       "16    11779  \n",
       "17    11968  \n",
       "18    12310  \n",
       "19    12317  "
      ]
     },
     "execution_count": 8,
     "metadata": {},
     "output_type": "execute_result"
    }
   ],
   "source": [
    "df_near_hospitals"
   ]
  },
  {
   "cell_type": "markdown",
   "metadata": {},
   "source": [
    "Lastly here we show the nearest hospital to the patient."
   ]
  },
  {
   "cell_type": "code",
   "execution_count": 9,
   "metadata": {},
   "outputs": [
    {
     "name": "stdout",
     "output_type": "stream",
     "text": [
      "Ersoy Hastanesi is the nearest hospital to you!\n"
     ]
    },
    {
     "data": {
      "text/html": [
       "<div style=\"width:100%;\"><div style=\"position:relative;width:100%;height:0;padding-bottom:60%;\"><iframe src=\"about:blank\" style=\"position:absolute;width:100%;height:100%;left:0;top:0;border:none !important;\" data-html=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 onload=\"this.contentDocument.open();this.contentDocument.write(atob(this.getAttribute('data-html')));this.contentDocument.close();\" allowfullscreen webkitallowfullscreen mozallowfullscreen></iframe></div></div>"
      ],
      "text/plain": [
       "<folium.folium.Map at 0x2a8ee82f2e8>"
      ]
     },
     "execution_count": 9,
     "metadata": {},
     "output_type": "execute_result"
    }
   ],
   "source": [
    "istanbul_map = folium.Map(location=[41.0096334, 28.9651646],zoom_start=10)\n",
    "\n",
    "\"\"\"folium.features.CircleMarker(\n",
    "[df[\"Latitude\"][0],df[\"Longitude\"][0]],\n",
    "radius=5,\n",
    "popup=\"YOU ARE HERE!\",\n",
    "fill=True,\n",
    "color=\"red\",\n",
    "fill_color=\"red\",\n",
    "fill_opacity=0.6).add_to(istanbul_map)\"\"\"\n",
    "\n",
    "folium.Marker(\n",
    "location=[df[\"Latitude\"][0],df[\"Longitude\"][0]],\n",
    "popup=\"YOU ARE HERE!\",\n",
    "icon=folium.Icon(color=\"red\",\n",
    "                icon=\"empty\")).add_to(istanbul_map)\n",
    "\n",
    "\n",
    "for latitude,longitude,label,distance in zip(df_near_hospitals[\"Latitude\"],\n",
    "                                   df_near_hospitals[\"Longitude\"],\n",
    "                                   df_near_hospitals[\"Hospital Name\"],\n",
    "                                   df_near_hospitals[\"Distance\"]):\n",
    "    if distance==min(df_near_hospitals[\"Distance\"]):\n",
    "        \"\"\"folium.features.CircleMarker(\n",
    "            [latitude,longitude],\n",
    "            radius=7.5,\n",
    "            popup=label,\n",
    "            fill=True,\n",
    "            color=\"black\",\n",
    "            fill_color=\"black\",\n",
    "            fill_opacity=1\n",
    "        ).add_to(istanbul_map)\"\"\"\n",
    "        folium.Marker(\n",
    "        location=[latitude,longitude],\n",
    "        popup=label,\n",
    "        icon=folium.Icon(color=\"black\",\n",
    "                        icon=\"empty\")).add_to(istanbul_map)\n",
    "        \n",
    "    else:\n",
    "        folium.features.CircleMarker(\n",
    "            [latitude,longitude],\n",
    "            radius=5,\n",
    "            popup=label,\n",
    "            fill=True,\n",
    "            color=\"blue\",\n",
    "            fill_color=\"blue\",\n",
    "            fill_opacity=1\n",
    "        ).add_to(istanbul_map)\n",
    "        \n",
    "istanbul_map\n",
    "\n",
    "\n",
    "\n",
    "print(\"{} is the nearest hospital to you!\".format(df_near_hospitals[df_near_hospitals[\"Distance\"]==min(df_near_hospitals[\"Distance\"])][\"Hospital Name\"].values[0]))\n",
    "istanbul_map"
   ]
  },
  {
   "cell_type": "markdown",
   "metadata": {},
   "source": [
    "## Results and Discussion <a name=\"results\"></a>"
   ]
  },
  {
   "cell_type": "markdown",
   "metadata": {},
   "source": [
    "By this way the patient can find the nearest hospital. This can be develop by making some visualizations or only giving location maybe we can show the patient directions or maybe we can send find the hospital's number and send the patient's location to them as a message etc."
   ]
  },
  {
   "cell_type": "markdown",
   "metadata": {},
   "source": [
    "## Conclusion <a name=\"conclusion\"></a>"
   ]
  },
  {
   "cell_type": "markdown",
   "metadata": {},
   "source": [
    "This project aimed that spend less time to search the nearest hospital. But as we say previous section this project can develop much much more. Thank you."
   ]
  }
 ],
 "metadata": {
  "kernelspec": {
   "display_name": "Python 3",
   "language": "python",
   "name": "python3"
  },
  "language_info": {
   "codemirror_mode": {
    "name": "ipython",
    "version": 3
   },
   "file_extension": ".py",
   "mimetype": "text/x-python",
   "name": "python",
   "nbconvert_exporter": "python",
   "pygments_lexer": "ipython3",
   "version": "3.6.8"
  }
 },
 "nbformat": 4,
 "nbformat_minor": 4
}
